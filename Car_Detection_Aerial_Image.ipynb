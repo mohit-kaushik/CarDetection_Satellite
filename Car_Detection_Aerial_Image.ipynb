{
 "cells": [
  {
   "cell_type": "code",
   "execution_count": 6,
   "metadata": {
    "id": "DTSBl0M4eZOM"
   },
   "outputs": [],
   "source": [
    "import tensorflow as tf\n",
    "from keras.layers import Dense,Flatten,Conv2D,Activation,Dropout, BatchNormalization\n",
    "from keras.models import Sequential, Model\n",
    "from keras.layers import MaxPool2D\n",
    "from CNN_BatchNorm import CNNModel\n",
    "# from VGG16 import VGG16"
   ]
  },
  {
   "cell_type": "code",
   "execution_count": 7,
   "metadata": {
    "id": "qc-0dGKyzS0J"
   },
   "outputs": [],
   "source": [
    "# model = VGG16()\n",
    "model = CNNModel()"
   ]
  },
  {
   "cell_type": "code",
   "execution_count": 8,
   "metadata": {
    "colab": {
     "base_uri": "https://localhost:8080/"
    },
    "id": "KdimYdjJ2fpO",
    "outputId": "9c0ee11b-071d-4203-c80b-c793ab1edbc0"
   },
   "outputs": [
    {
     "name": "stdout",
     "output_type": "stream",
     "text": [
      "Model: \"sequential_2\"\n",
      "_________________________________________________________________\n",
      "Layer (type)                 Output Shape              Param #   \n",
      "=================================================================\n",
      "conv2d_14 (Conv2D)           (None, 61, 61, 64)        6464      \n",
      "_________________________________________________________________\n",
      "batch_normalization_1 (Batch (None, 61, 61, 64)        256       \n",
      "_________________________________________________________________\n",
      "activation_1 (Activation)    (None, 61, 61, 64)        0         \n",
      "_________________________________________________________________\n",
      "conv2d_15 (Conv2D)           (None, 57, 57, 128)       204928    \n",
      "_________________________________________________________________\n",
      "batch_normalization_2 (Batch (None, 57, 57, 128)       512       \n",
      "_________________________________________________________________\n",
      "activation_2 (Activation)    (None, 57, 57, 128)       0         \n",
      "_________________________________________________________________\n",
      "conv2d_16 (Conv2D)           (None, 53, 53, 256)       819456    \n",
      "_________________________________________________________________\n",
      "batch_normalization_3 (Batch (None, 53, 53, 256)       1024      \n",
      "_________________________________________________________________\n",
      "activation_3 (Activation)    (None, 53, 53, 256)       0         \n",
      "_________________________________________________________________\n",
      "conv2d_17 (Conv2D)           (None, 49, 49, 256)       1638656   \n",
      "_________________________________________________________________\n",
      "batch_normalization_4 (Batch (None, 49, 49, 256)       1024      \n",
      "_________________________________________________________________\n",
      "activation_4 (Activation)    (None, 49, 49, 256)       0         \n",
      "_________________________________________________________________\n",
      "conv2d_18 (Conv2D)           (None, 45, 45, 512)       3277312   \n",
      "_________________________________________________________________\n",
      "batch_normalization_5 (Batch (None, 45, 45, 512)       2048      \n",
      "_________________________________________________________________\n",
      "activation_5 (Activation)    (None, 45, 45, 512)       0         \n",
      "_________________________________________________________________\n",
      "flatten_1 (Flatten)          (None, 1036800)           0         \n",
      "_________________________________________________________________\n",
      "dense_4 (Dense)              (None, 256)               265421056 \n",
      "_________________________________________________________________\n",
      "dense_5 (Dense)              (None, 128)               32896     \n",
      "_________________________________________________________________\n",
      "dense_6 (Dense)              (None, 1)                 129       \n",
      "=================================================================\n",
      "Total params: 271,405,761\n",
      "Trainable params: 271,403,329\n",
      "Non-trainable params: 2,432\n",
      "_________________________________________________________________\n"
     ]
    }
   ],
   "source": [
    "model.summary()"
   ]
  },
  {
   "cell_type": "code",
   "execution_count": 5,
   "metadata": {
    "id": "LPwFjAh3MQBO"
   },
   "outputs": [],
   "source": [
    "FEATURES_DICT = {\n",
    "    'R': tf.io.FixedLenFeature([61, 61], dtype=tf.float32),  \n",
    "    'G': tf.io.FixedLenFeature([61, 61], dtype=tf.float32),  \n",
    "    'B': tf.io.FixedLenFeature([61, 61], dtype=tf.float32),    \n",
    "    'L': tf.io.FixedLenFeature([61, 61], dtype=tf.float32),\n",
    "    'class': tf.io.FixedLenFeature([1, 1], dtype=tf.float32)\n",
    "  }\n"
   ]
  },
  {
   "cell_type": "code",
   "execution_count": 6,
   "metadata": {
    "id": "0P48-KSJCSFU"
   },
   "outputs": [],
   "source": [
    "def parse_tfrecord(example_proto):\n",
    "  return tf.io.parse_single_example(example_proto, FEATURES_DICT)\n",
    "\n",
    "def to_tuple(inputs):\n",
    "  inputsList = [inputs.get(key) for key in ['R','G','B','L']]\n",
    "  labels = inputs.get('class')\n",
    "  # labels = parsed_features.pop('class')\n",
    "  stacked = tf.stack(inputsList, axis=0)\n",
    "  # Convert from CHW to HWC\n",
    "  stacked = tf.transpose(stacked, [1, 2, 0])\n",
    "  return stacked[:,:,:len(['R','G','B','L','class'])], labels\n",
    "\n",
    "\n",
    "def get_dataset(files):\n",
    "  # glob = tf.io.gfile.glob(pattern)\n",
    "  dataset = tf.data.TFRecordDataset(files, compression_type='GZIP')\n",
    "  dataset = dataset.map(parse_tfrecord)\n",
    "  dataset = dataset.map(to_tuple)\n",
    "  \n",
    "  return dataset"
   ]
  },
  {
   "cell_type": "code",
   "execution_count": 9,
   "metadata": {
    "colab": {
     "base_uri": "https://localhost:8080/"
    },
    "id": "7LE1cptzF2qk",
    "outputId": "d018cfa3-92ef-49c6-a0de-8d9c680a61b1"
   },
   "outputs": [],
   "source": [
    "# Auth with cloud storage\n",
    "!gcloud auth activate-service-account --key-file Your_Service_Account.json\n",
    "!gsutil cp gs://your_cloud_storage/cars_training2.tfrecord.gz .\n",
    "!gsutil cp gs://your_cloud_storage/cars_eval2.tfrecord.gz ."
   ]
  },
  {
   "cell_type": "code",
   "execution_count": 8,
   "metadata": {
    "id": "2PppXWaZGB2P"
   },
   "outputs": [],
   "source": [
    "car_dataset = get_dataset('cars_training2.tfrecord.gz')\n",
    "car_val_dataset = get_dataset('cars_training2.tfrecord.gz').batch(100)\n",
    "car_dataset_batched = car_dataset.batch(100)"
   ]
  },
  {
   "cell_type": "code",
   "execution_count": 9,
   "metadata": {
    "id": "6FxQqHu7bsTT"
   },
   "outputs": [],
   "source": [
    "model.compile(optimizer='SGD', loss='BinaryCrossentropy', metrics=['accuracy'])"
   ]
  },
  {
   "cell_type": "code",
   "execution_count": 10,
   "metadata": {
    "colab": {
     "base_uri": "https://localhost:8080/"
    },
    "id": "kNMJqkRGcPg_",
    "outputId": "e73186ee-1f01-4287-971b-32519f35048f"
   },
   "outputs": [],
   "source": [
    "model.fit_generator(car_dataset_batched, validation_data=car_val_dataset,epochs=50, shuffle=True)"
   ]
  },
  {
   "cell_type": "code",
   "execution_count": 12,
   "metadata": {
    "id": "hMQf_xAjNrZo"
   },
   "outputs": [],
   "source": [
    "from matplotlib import pyplot as plt"
   ]
  },
  {
   "cell_type": "code",
   "execution_count": 13,
   "metadata": {
    "colab": {
     "base_uri": "https://localhost:8080/",
     "height": 302
    },
    "id": "wYTZbemFacQO",
    "outputId": "a5f49ea0-c82d-4563-e1ee-20118973f450"
   },
   "outputs": [
    {
     "name": "stdout",
     "output_type": "stream",
     "text": [
      "tf.Tensor([[1.]], shape=(1, 1), dtype=float32)\n",
      "(61, 61, 3)\n"
     ]
    },
    {
     "data": {
      "image/png": "[encoded data removed]",
      "text/plain": [
       "<Figure size 432x288 with 1 Axes>"
      ]
     },
     "metadata": {
      "needs_background": "light",
      "tags": []
     },
     "output_type": "display_data"
    }
   ],
   "source": [
    "image_no=228\n",
    "for idx,i in enumerate(car_dataset):\n",
    "  if idx == image_no:\n",
    "    image = tf.transpose(i[0],(2,0,1))\n",
    "    print(i[1])\n",
    "    print(i[0][:,:,:3].shape)\n",
    "    plt.imshow(i[0][:,:,:3]/255)\n",
    "    break"
   ]
  },
  {
   "cell_type": "markdown",
   "metadata": {
    "id": "X5oYhMqOhq8v"
   },
   "source": [
    "# Test"
   ]
  },
  {
   "cell_type": "code",
   "execution_count": 23,
   "metadata": {
    "colab": {
     "base_uri": "https://localhost:8080/",
     "height": 319
    },
    "id": "-BVlP7mXZ1Bm",
    "outputId": "a24c780b-6cbd-47f2-9e80-8381493737cf"
   },
   "outputs": [
    {
     "name": "stdout",
     "output_type": "stream",
     "text": [
      "(61, 61, 4)\n",
      "[[0.24182819]]\n",
      "tf.Tensor([[0.]], shape=(1, 1), dtype=float32)\n"
     ]
    },
    {
     "data": {
      "image/png": "[encoded data removed]",
      "text/plain": [
       "<Figure size 432x288 with 1 Axes>"
      ]
     },
     "metadata": {
      "needs_background": "light",
      "tags": []
     },
     "output_type": "display_data"
    }
   ],
   "source": [
    "image_no=2000\n",
    "for idx,i in enumerate(car_dataset):\n",
    "  if idx == image_no:\n",
    "    print(i[0].shape)\n",
    "    print(model.predict(tf.expand_dims(i[0],axis=0)))\n",
    "    print(i[1])\n",
    "    plt.imshow(i[0][:,:,:3]/255)\n",
    "    break"
   ]
  },
  {
   "cell_type": "code",
   "execution_count": null,
   "metadata": {
    "id": "erOaG6YylPTo"
   },
   "outputs": [],
   "source": []
  }
 ],
 "metadata": {
  "colab": {
   "name": "Car_Detection_Aerial_Image.ipynb",
   "provenance": []
  },
  "kernelspec": {
   "display_name": "Python 3",
   "language": "python",
   "name": "python3"
  },
  "language_info": {
   "codemirror_mode": {
    "name": "ipython",
    "version": 3
   },
   "file_extension": ".py",
   "mimetype": "text/x-python",
   "name": "python",
   "nbconvert_exporter": "python",
   "pygments_lexer": "ipython3",
   "version": "3.7.6"
  }
 },
 "nbformat": 4,
 "nbformat_minor": 1
}
